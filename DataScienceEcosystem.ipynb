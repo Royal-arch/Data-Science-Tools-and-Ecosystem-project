{
 "cells": [
  {
   "cell_type": "markdown",
   "id": "3dbb2464-27f1-4946-9b3d-905bcf6d713d",
   "metadata": {},
   "source": [
    "# Data Science Tools and Ecosystem"
   ]
  },
  {
   "cell_type": "markdown",
   "id": "96cd7710-aa96-4708-8fcd-a4de78c33eac",
   "metadata": {},
   "source": [
    "# In this notebook, Data Science Tools and Ecosystem are summarized."
   ]
  },
  {
   "cell_type": "markdown",
   "id": "72bc59ae-4da5-4f04-8180-e848b85c8b06",
   "metadata": {},
   "source": [
    "Some of the popular languages that Data Scientists use are:\n",
    "1. python\n",
    "2. R\n",
    "3. SQL"
   ]
  },
  {
   "cell_type": "markdown",
   "id": "5dd24224-6ea9-4af2-997d-c8fda19420b1",
   "metadata": {},
   "source": [
    "**Objectives:**\n",
    "* open sourced tools for data science \n",
    "* application programming interfaces\n",
    "* the model asset exchange "
   ]
  },
  {
   "cell_type": "markdown",
   "id": "867e0061-3aeb-49e5-bd5a-ea9dc4cb76a6",
   "metadata": {},
   "source": [
    "one of the commonly used libraries used by Data Scientists include:\n",
    "1. panda \n",
    "2. numPY\n",
    "3. matplotlib\n",
    "4. tensorflow\n",
    "5. pytorch "
   ]
  },
  {
   "cell_type": "markdown",
   "id": "68bf6230-cf0a-4b10-a690-14ebf6942473",
   "metadata": {},
   "source": [
    "# Data Science Tools\n",
    "| Tensor flow | R- studios | Apache Spark |\n",
    "\n"
   ]
  },
  {
   "cell_type": "markdown",
   "id": "f6d4cf20-7241-4a3e-bd79-b491f269299b",
   "metadata": {},
   "source": [
    "### Below are a few examples of evaluating arithmetic expressions in Python"
   ]
  },
  {
   "cell_type": "code",
   "execution_count": 3,
   "id": "27c79bea-713c-41c0-be57-ee3f767c024a",
   "metadata": {},
   "outputs": [
    {
     "data": {
      "text/plain": [
       "17"
      ]
     },
     "execution_count": 3,
     "metadata": {},
     "output_type": "execute_result"
    }
   ],
   "source": [
    "#This a simple arithmetic expression to mutiply then add integers. \n",
    "(3*4)+5"
   ]
  },
  {
   "cell_type": "code",
   "execution_count": 4,
   "id": "51c215ca-10ac-47b3-bb14-22d8acb108a3",
   "metadata": {},
   "outputs": [
    {
     "name": "stdout",
     "output_type": "stream",
     "text": [
      "3.3333333333333335\n"
     ]
    }
   ],
   "source": [
    "#This will convert 200 minutes to hours by diving by 60.\n",
    "minutes = 200\n",
    "hours = minutes / 60\n",
    "print(hours)"
   ]
  },
  {
   "cell_type": "markdown",
   "id": "5938f473-d6c8-4dde-9675-61e2b7bdf140",
   "metadata": {},
   "source": [
    "## Author \n",
    "Raphael. "
   ]
  },
  {
   "cell_type": "code",
   "execution_count": null,
   "id": "7d7f5db5-530b-41c8-b879-c8210943308e",
   "metadata": {},
   "outputs": [],
   "source": []
  },
  {
   "cell_type": "code",
   "execution_count": null,
   "id": "5f2a2306-ccf6-495a-aae0-98660e932a49",
   "metadata": {},
   "outputs": [],
   "source": []
  },
  {
   "cell_type": "code",
   "execution_count": null,
   "id": "abd59cb3-ec8d-43c8-b85e-903e3feb9dbe",
   "metadata": {},
   "outputs": [],
   "source": []
  },
  {
   "cell_type": "code",
   "execution_count": null,
   "id": "9509b303-1f22-45df-b399-9ef21ee0b9d1",
   "metadata": {},
   "outputs": [],
   "source": []
  },
  {
   "cell_type": "code",
   "execution_count": null,
   "id": "7c9cfb0b-46e8-4e1b-9331-ec853e8f0b55",
   "metadata": {},
   "outputs": [],
   "source": []
  },
  {
   "cell_type": "code",
   "execution_count": null,
   "id": "4caba953-89a9-4855-bad1-a437a1d3b787",
   "metadata": {},
   "outputs": [],
   "source": []
  }
 ],
 "metadata": {
  "kernelspec": {
   "display_name": "Python",
   "language": "python",
   "name": "conda-env-python-py"
  },
  "language_info": {
   "codemirror_mode": {
    "name": "ipython",
    "version": 3
   },
   "file_extension": ".py",
   "mimetype": "text/x-python",
   "name": "python",
   "nbconvert_exporter": "python",
   "pygments_lexer": "ipython3",
   "version": "3.7.12"
  }
 },
 "nbformat": 4,
 "nbformat_minor": 5
}
